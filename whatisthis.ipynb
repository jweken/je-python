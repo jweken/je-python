{
 "cells": [
  {
   "attachments": {},
   "cell_type": "markdown",
   "metadata": {},
   "source": [
    "# What is this\n",
    "\n",
    "This is a .ipynb file also known as a ## Jupyter file.  \n",
    "Note: The above ## does only translate to a heading if\n",
    "used at the start of a line.\n",
    "___"
   ]
  },
  {
   "attachments": {},
   "cell_type": "markdown",
   "metadata": {},
   "source": [
    "\n",
    "## Jupyter files can execute code.  \n",
    "### Some Sample Code\n",
    "\n",
    "How does that work ?"
   ]
  },
  {
   "cell_type": "code",
   "execution_count": 1,
   "metadata": {},
   "outputs": [
    {
     "name": "stdout",
     "output_type": "stream",
     "text": [
      "Hello World\n",
      "\n",
      "c:\\dev\\je-python\n",
      "C:\\Program Files\\WindowsApps\\PythonSoftwareFoundation.Python.3.9_3.9.3568.0_x64__qbz5n2kfra8p0\\python39.zip\n",
      "C:\\Program Files\\WindowsApps\\PythonSoftwareFoundation.Python.3.9_3.9.3568.0_x64__qbz5n2kfra8p0\\DLLs\n",
      "C:\\Program Files\\WindowsApps\\PythonSoftwareFoundation.Python.3.9_3.9.3568.0_x64__qbz5n2kfra8p0\\lib\n",
      "C:\\Users\\jweke\\AppData\\Local\\Microsoft\\WindowsApps\\PythonSoftwareFoundation.Python.3.9_qbz5n2kfra8p0\n",
      "\n",
      "C:\\Users\\jweke\\AppData\\Local\\Packages\\PythonSoftwareFoundation.Python.3.9_qbz5n2kfra8p0\\LocalCache\\local-packages\\Python39\\site-packages\n",
      "C:\\Users\\jweke\\AppData\\Local\\Packages\\PythonSoftwareFoundation.Python.3.9_qbz5n2kfra8p0\\LocalCache\\local-packages\\Python39\\site-packages\\win32\n",
      "C:\\Users\\jweke\\AppData\\Local\\Packages\\PythonSoftwareFoundation.Python.3.9_qbz5n2kfra8p0\\LocalCache\\local-packages\\Python39\\site-packages\\win32\\lib\n",
      "C:\\Users\\jweke\\AppData\\Local\\Packages\\PythonSoftwareFoundation.Python.3.9_qbz5n2kfra8p0\\LocalCache\\local-packages\\Python39\\site-packages\\Pythonwin\n",
      "C:\\Program Files\\WindowsApps\\PythonSoftwareFoundation.Python.3.9_3.9.3568.0_x64__qbz5n2kfra8p0\n",
      "C:\\Program Files\\WindowsApps\\PythonSoftwareFoundation.Python.3.9_3.9.3568.0_x64__qbz5n2kfra8p0\\lib\\site-packages\n"
     ]
    }
   ],
   "source": [
    "# you start with a comment\n",
    "# you type some code\n",
    "# you execute the code.\n",
    "\n",
    "import sys\n",
    "\n",
    "\n",
    "msg =\"Hello World\"\n",
    "print(msg)\n",
    "print()\n",
    "#print(sys.paths) # this produces an error\n",
    "for all in sys.path:\n",
    "    print(all)"
   ]
  },
  {
   "cell_type": "code",
   "execution_count": 2,
   "metadata": {},
   "outputs": [
    {
     "name": "stdout",
     "output_type": "stream",
     "text": [
      "Wed Oct 25 06:32:32 2023\n",
      "time.struct_time(tm_year=2023, tm_mon=10, tm_mday=25, tm_hour=4, tm_min=32, tm_sec=32, tm_wday=2, tm_yday=298, tm_isdst=0)\n"
     ]
    }
   ],
   "source": [
    "# show some time 'things'\n",
    "\n",
    "import time\n",
    "\n",
    "def GetDateTime():\n",
    "    return time.asctime()\n",
    "\n",
    "x = GetDateTime()\n",
    "print(x)\n",
    "print(time.gmtime())\n",
    "    "
   ]
  },
  {
   "attachments": {},
   "cell_type": "markdown",
   "metadata": {},
   "source": [
    "___"
   ]
  },
  {
   "attachments": {},
   "cell_type": "markdown",
   "metadata": {},
   "source": [
    "## Where can I find more Notebooks"
   ]
  },
  {
   "attachments": {},
   "cell_type": "markdown",
   "metadata": {},
   "source": [
    "## Links  \n",
    "\n",
    "* time on [Python.org](<https://docs.python.org/3/library/time.html#module-time>)"
   ]
  }
 ],
 "metadata": {
  "kernelspec": {
   "display_name": "Python 3",
   "language": "python",
   "name": "python3"
  },
  "language_info": {
   "codemirror_mode": {
    "name": "ipython",
    "version": 3
   },
   "file_extension": ".py",
   "mimetype": "text/x-python",
   "name": "python",
   "nbconvert_exporter": "python",
   "pygments_lexer": "ipython3",
   "version": "3.9.13"
  },
  "orig_nbformat": 2,
  "vscode": {
   "interpreter": {
    "hash": "354a7e17d393a7f8364684677457bee9e2769964d39a6df39292aee32523042f"
   }
  }
 },
 "nbformat": 4,
 "nbformat_minor": 2
}
