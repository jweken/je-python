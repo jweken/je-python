{
 "cells": [
  {
   "attachments": {},
   "cell_type": "markdown",
   "metadata": {},
   "source": [
    "# What is this\n",
    "\n",
    "This is a .ipynb file also known as a ## Jupyter file.  \n",
    "Note: The above ## does only translate to a heading if\n",
    "used at the start of a line.\n",
    "___"
   ]
  },
  {
   "attachments": {},
   "cell_type": "markdown",
   "metadata": {},
   "source": [
    "\n",
    "## Jupyter files can execute code.  \n",
    "### Some Sample Code\n",
    "\n",
    "How does that work ?"
   ]
  },
  {
   "cell_type": "code",
   "execution_count": null,
   "metadata": {},
   "outputs": [],
   "source": [
    "# you start with a comment\n",
    "# you type some code\n",
    "# you execute the code.\n",
    "\n",
    "import sys\n",
    "\n",
    "\n",
    "msg =\"Hello World\"\n",
    "print(msg)\n",
    "print()\n",
    "#print(sys.paths) # this produces an error\n",
    "for all in sys.path:\n",
    "    print(all)"
   ]
  },
  {
   "cell_type": "code",
   "execution_count": null,
   "metadata": {},
   "outputs": [],
   "source": [
    "# show some time 'things'\n",
    "\n",
    "import time\n",
    "\n",
    "def GetDateTime():\n",
    "    return time.asctime()\n",
    "\n",
    "x = GetDateTime()\n",
    "print(x)\n",
    "print(time.gmtime())\n",
    "    "
   ]
  },
  {
   "attachments": {},
   "cell_type": "markdown",
   "metadata": {},
   "source": [
    "___"
   ]
  },
  {
   "attachments": {},
   "cell_type": "markdown",
   "metadata": {},
   "source": [
    "## Where can I find more Notebooks"
   ]
  },
  {
   "attachments": {},
   "cell_type": "markdown",
   "metadata": {},
   "source": [
    "## Links  \n",
    "\n",
    "* time on [Python.org](<https://docs.python.org/3/library/time.html#module-time>)"
   ]
  }
 ],
 "metadata": {
  "kernelspec": {
   "display_name": "Python 3",
   "language": "python",
   "name": "python3"
  },
  "language_info": {
   "codemirror_mode": {
    "name": "ipython",
    "version": 3
   },
   "file_extension": ".py",
   "mimetype": "text/x-python",
   "name": "python",
   "nbconvert_exporter": "python",
   "pygments_lexer": "ipython3",
   "version": "3.9.0 (tags/v3.9.0:9cf6752, Oct  5 2020, 15:34:40) [MSC v.1927 64 bit (AMD64)]"
  },
  "orig_nbformat": 2,
  "vscode": {
   "interpreter": {
    "hash": "354a7e17d393a7f8364684677457bee9e2769964d39a6df39292aee32523042f"
   }
  }
 },
 "nbformat": 4,
 "nbformat_minor": 2
}
