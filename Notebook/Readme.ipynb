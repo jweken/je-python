{
 "cells": [
  {
   "cell_type": "markdown",
   "metadata": {},
   "source": [
    "## Readme in Notebook\n",
    "\n",
    "This is the first entry in this location.\n"
   ]
  },
  {
   "cell_type": "markdown",
   "metadata": {},
   "source": [
    "### Did you know:  \n",
    "### You can execute Python Code from a Notebook-file.\n",
    "\n",
    "Example 1.\n",
    "\n",
    "The following code creates some text between brackets."
   ]
  },
  {
   "cell_type": "code",
   "execution_count": null,
   "metadata": {},
   "outputs": [],
   "source": [
    "import unicodedata\n",
    "\n",
    "lcb = unicodedata.lookup('LEFT CURLY BRACKET')\n",
    "content = \"Some content\"\n",
    "rcb = unicodedata.lookup('RIGHT CURLY BRACKET')\n",
    "\n",
    "print(lcb, content, rcb)"
   ]
  },
  {
   "cell_type": "markdown",
   "metadata": {},
   "source": [
    "## Links on Python.org\n",
    "\n",
    "* [unicodedata](<https://docs.python.org/3.9/library/unicodedata#>)  \n",
    "        This module provides access to the Unicode Character Database (UCD) which defines character properties for all Unicode characters. The data contained in this database is compiled from the UCD version 13.0.0.\n",
    "\n"
   ]
  }
 ],
 "metadata": {
  "kernelspec": {
   "display_name": "Python 3",
   "language": "python",
   "name": "python3"
  },
  "language_info": {
   "codemirror_mode": {
    "name": "ipython",
    "version": 3
   },
   "file_extension": ".py",
   "mimetype": "text/x-python",
   "name": "python",
   "nbconvert_exporter": "python",
   "pygments_lexer": "ipython3",
   "version": "3.9.13"
  }
 },
 "nbformat": 4,
 "nbformat_minor": 2
}
